{
 "cells": [
  {
   "cell_type": "code",
   "execution_count": 106,
   "id": "ad680085",
   "metadata": {},
   "outputs": [],
   "source": [
    "#import lib & modu\n",
    "import pandas as pd\n",
    "import matplotlib.pyplot as plt \n",
    "from sklearn.model_selection import train_test_split\n",
    "from sklearn.linear_model import LogisticRegression\n",
    "import pickle"
   ]
  },
  {
   "cell_type": "code",
   "execution_count": 98,
   "id": "dfd0a55f",
   "metadata": {},
   "outputs": [],
   "source": [
    "#read CSV\n",
    "df_train = pd.read_csv('train.csv')\n",
    "df_test = pd.read_csv ('test.csv')"
   ]
  },
  {
   "cell_type": "code",
   "execution_count": 99,
   "id": "4f3964a6",
   "metadata": {},
   "outputs": [],
   "source": [
    "#segregate Attribites\n",
    "inputs = df_train[['Pclass','Sex','Age','Fare']]\n",
    "target = df_train['Survived']\n",
    "\n",
    "predict = df_test[['Pclass','Sex','Age','Fare']]\n",
    "predict_id = df_test['PassengerId']"
   ]
  },
  {
   "cell_type": "code",
   "execution_count": 89,
   "id": "d67cf6df",
   "metadata": {},
   "outputs": [],
   "source": [
    "#text to dummy \n",
    "sex_dum = pd.get_dummies(inputs.Sex)\n",
    "inputs_n = pd.concat([inputs,sex_dum], axis = 'columns')\n",
    "\n",
    "sex_dum = pd.get_dummies(predict.Sex)\n",
    "predict_n = pd.concat([predict,sex_dum], axis = 'columns')\n"
   ]
  },
  {
   "cell_type": "code",
   "execution_count": 90,
   "id": "268266d6",
   "metadata": {},
   "outputs": [],
   "source": [
    "#drop n-1 dummy\n",
    "inputs_n = inputs_n.drop(['Sex', 'male'], axis = 'columns')\n",
    "predict_n = predict_n.drop(['Sex', 'male'], axis = 'columns')"
   ]
  },
  {
   "cell_type": "code",
   "execution_count": 91,
   "id": "624a8385",
   "metadata": {},
   "outputs": [],
   "source": [
    "#NaN handeling\n",
    "\n",
    "median_age = inputs_n.Age.median()\n",
    "inputs_n.Age = inputs_n.Age.fillna(median_age)\n",
    "\n",
    "median_age = predict_n.Age.median()\n",
    "predict_n.Age = predict_n.Age.fillna(median_age)\n",
    "\n",
    "median_Fare = predict_n.Fare.median()\n",
    "predict_n.Fare = predict_n.Fare.fillna(median_Fare)\n"
   ]
  },
  {
   "cell_type": "code",
   "execution_count": 92,
   "id": "66c5bb34",
   "metadata": {},
   "outputs": [],
   "source": [
    "i_train,i_test,t_train, t_test = train_test_split(inputs_n,target,test_size=0.3,random_state=6)"
   ]
  },
  {
   "cell_type": "code",
   "execution_count": 93,
   "id": "bb41c69a",
   "metadata": {},
   "outputs": [],
   "source": [
    "#creat Object \n",
    "log_reg = LogisticRegression()"
   ]
  },
  {
   "cell_type": "code",
   "execution_count": 94,
   "id": "19a4accc",
   "metadata": {},
   "outputs": [
    {
     "data": {
      "text/plain": [
       "LogisticRegression()"
      ]
     },
     "execution_count": 94,
     "metadata": {},
     "output_type": "execute_result"
    }
   ],
   "source": [
    "log_reg.fit(i_train,t_train)"
   ]
  },
  {
   "cell_type": "code",
   "execution_count": 95,
   "id": "e51e79b8",
   "metadata": {},
   "outputs": [
    {
     "data": {
      "text/plain": [
       "0.8432835820895522"
      ]
     },
     "execution_count": 95,
     "metadata": {},
     "output_type": "execute_result"
    }
   ],
   "source": [
    "log_reg.score(i_test,t_test)"
   ]
  },
  {
   "cell_type": "code",
   "execution_count": 108,
   "id": "a8828fbb",
   "metadata": {},
   "outputs": [],
   "source": [
    "with open ('survival_prediction', 'wb') as i: \n",
    "    pickle.dump(log_reg,i)"
   ]
  },
  {
   "cell_type": "code",
   "execution_count": 109,
   "id": "39577d0d",
   "metadata": {},
   "outputs": [],
   "source": [
    "with open ('survival_prediction', 'rb') as i : \n",
    "       reg = pickle.load(i)"
   ]
  },
  {
   "cell_type": "code",
   "execution_count": 110,
   "id": "fb3bb88a",
   "metadata": {},
   "outputs": [],
   "source": [
    "survive = reg.predict(predict_n)"
   ]
  },
  {
   "cell_type": "code",
   "execution_count": 111,
   "id": "4e783125",
   "metadata": {},
   "outputs": [],
   "source": [
    "survive_df = pd.DataFrame(survive,columns = ['Survived'])"
   ]
  },
  {
   "cell_type": "code",
   "execution_count": 112,
   "id": "e3db73c6",
   "metadata": {},
   "outputs": [],
   "source": [
    "result_df = pd.concat([predict_id,survive_df],axis = 'columns')"
   ]
  },
  {
   "cell_type": "code",
   "execution_count": 113,
   "id": "6568509c",
   "metadata": {},
   "outputs": [
    {
     "name": "stdout",
     "output_type": "stream",
     "text": [
      "     PassengerId  Survived\n",
      "0            892         0\n",
      "1            893         0\n",
      "2            894         0\n",
      "3            895         0\n",
      "4            896         1\n",
      "..           ...       ...\n",
      "413         1305         0\n",
      "414         1306         1\n",
      "415         1307         0\n",
      "416         1308         0\n",
      "417         1309         0\n",
      "\n",
      "[418 rows x 2 columns]\n"
     ]
    }
   ],
   "source": [
    "print (result_df)"
   ]
  },
  {
   "cell_type": "code",
   "execution_count": 114,
   "id": "09717dfd",
   "metadata": {},
   "outputs": [],
   "source": [
    "result_df.to_csv('final_result_of_survival.csv')"
   ]
  },
  {
   "cell_type": "code",
   "execution_count": null,
   "id": "dfe0b284",
   "metadata": {},
   "outputs": [],
   "source": []
  },
  {
   "cell_type": "code",
   "execution_count": null,
   "id": "e003ab98",
   "metadata": {},
   "outputs": [],
   "source": []
  }
 ],
 "metadata": {
  "kernelspec": {
   "display_name": "Python 3",
   "language": "python",
   "name": "python3"
  },
  "language_info": {
   "codemirror_mode": {
    "name": "ipython",
    "version": 3
   },
   "file_extension": ".py",
   "mimetype": "text/x-python",
   "name": "python",
   "nbconvert_exporter": "python",
   "pygments_lexer": "ipython3",
   "version": "3.8.8"
  }
 },
 "nbformat": 4,
 "nbformat_minor": 5
}
